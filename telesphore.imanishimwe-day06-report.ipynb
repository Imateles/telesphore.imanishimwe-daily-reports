{
 "cells": [
  {
   "cell_type": "markdown",
   "id": "activated-turning",
   "metadata": {},
   "source": [
    "# Exercises one "
   ]
  },
  {
   "cell_type": "code",
   "execution_count": 17,
   "id": "traditional-billy",
   "metadata": {},
   "outputs": [
    {
     "name": "stdout",
     "output_type": "stream",
     "text": [
      "Enter a value for n: 5\n",
      "Sum for odd numbers is : 10\n"
     ]
    }
   ],
   "source": [
    "sum_i=0\n",
    "n =int(input(\"Enter a value for n: \"))\n",
    "for i in range(1, n , 2):\n",
    "    sum_i += i + 3 \n",
    "print(\"Sum for odd numbers is :\", sum_i)"
   ]
  },
  {
   "cell_type": "code",
   "execution_count": 15,
   "id": "numerous-logging",
   "metadata": {
    "scrolled": true
   },
   "outputs": [
    {
     "name": "stdout",
     "output_type": "stream",
     "text": [
      "Enter a value for n: 6\n",
      "products for even numbers is : 6720\n"
     ]
    }
   ],
   "source": [
    "prod_i=1\n",
    "n =int(input(\"Enter a value for n: \"))\n",
    "for i in range(1, n , 1):\n",
    "    prod_i =prod_i*(i + 3)\n",
    "print(\"products for even numbers is :\", prod_i)"
   ]
  },
  {
   "cell_type": "markdown",
   "id": "cathedral-scottish",
   "metadata": {},
   "source": [
    "# Exercises Two"
   ]
  },
  {
   "cell_type": "code",
   "execution_count": 19,
   "id": "metropolitan-dietary",
   "metadata": {},
   "outputs": [
    {
     "name": "stdout",
     "output_type": "stream",
     "text": [
      "Enter the number of day you want: 3\n",
      "The day is: Thursday\n"
     ]
    }
   ],
   "source": [
    "days = [\"Monday\", \"Tuesday\", \"Wednesday\", \"Thursday\", \"Friday\", \"Saturday\", \"Sunday\"]\n",
    "n = int(input(\"Enter the number of day you want: \"))\n",
    "\n",
    "if 0 <= n <= 6:\n",
    "    print(f\"The day is: {days[n]}\")\n",
    "else:\n",
    "    print(\"I Please enter a number between 0 and 6.\")\n",
    "\n",
    "\n"
   ]
  },
  {
   "cell_type": "markdown",
   "id": "destroyed-mapping",
   "metadata": {},
   "source": [
    "# Exercise Three"
   ]
  },
  {
   "cell_type": "code",
   "execution_count": 23,
   "id": "inclusive-ebony",
   "metadata": {},
   "outputs": [
    {
     "name": "stdout",
     "output_type": "stream",
     "text": [
      "Enter the month number you want: 10\n",
      "The number of days is: 30\n"
     ]
    }
   ],
   "source": [
    "month = int(input(\"Enter the month number you want: \"))\n",
    "days = [31, 28, 31, 30, 31, 30, 31, 31, 30, 31, 30, 31]\n",
    "\n",
    "if month in [0, 2, 4, 6, 7, 9, 11]: \n",
    "    print(\"The number of days is: 31\")\n",
    "elif month == 1:  \n",
    "    print(\"The number of days is: 28\")\n",
    "elif month in [3, 5, 8, 10]:  \n",
    "    print(\"The number of days is: 30\")\n",
    "else:\n",
    "    print(\"A number must be between 0 and 11.\")\n"
   ]
  },
  {
   "cell_type": "markdown",
   "id": "assured-stomach",
   "metadata": {},
   "source": [
    " # Exercise Four"
   ]
  },
  {
   "cell_type": "code",
   "execution_count": 24,
   "id": "young-network",
   "metadata": {},
   "outputs": [
    {
     "name": "stdout",
     "output_type": "stream",
     "text": [
      "Enter your name: Telesphore\n",
      "Telesphore\n",
      "Telesphore\n",
      "Telesphore\n"
     ]
    }
   ],
   "source": [
    "name = input(\"Enter your name: \")\n",
    "\n",
    "for i in range(3):\n",
    "    print(name)\n"
   ]
  },
  {
   "cell_type": "code",
   "execution_count": 25,
   "id": "filled-print",
   "metadata": {},
   "outputs": [
    {
     "name": "stdout",
     "output_type": "stream",
     "text": [
      "Enter your name: Lucas\n",
      "Lucas\n",
      "Lucas\n",
      "Lucas\n"
     ]
    }
   ],
   "source": [
    "name = input(\"Enter your name: \")\n",
    "\n",
    "i = 0\n",
    "while i < 3:\n",
    "    print(name)\n",
    "    i += 1\n"
   ]
  },
  {
   "cell_type": "markdown",
   "id": "elder-museum",
   "metadata": {},
   "source": [
    "# Exercise Five"
   ]
  },
  {
   "cell_type": "code",
   "execution_count": 26,
   "id": "social-spectacular",
   "metadata": {},
   "outputs": [
    {
     "name": "stdout",
     "output_type": "stream",
     "text": [
      "Enter the first term (a0): 0\n",
      "Enter the second term (a1): 1\n",
      "The first 15 terms of the Fibonacci sequence are:\n",
      "0\n",
      "1\n",
      "1\n",
      "2\n",
      "3\n",
      "5\n",
      "8\n",
      "13\n",
      "21\n",
      "34\n",
      "55\n",
      "89\n",
      "144\n",
      "233\n",
      "377\n"
     ]
    }
   ],
   "source": [
    "\n",
    "a0 = int(input(\"Enter the first term (a0): \"))\n",
    "a1 = int(input(\"Enter the second term (a1): \"))\n",
    "\n",
    "fib = [a0, a1]\n",
    "\n",
    "for i in range(2, 15):\n",
    "    next_term = fib[i-1] + fib[i-2]\n",
    "    fib.append(next_term)\n",
    "\n",
    "print(\"The first 15 terms of the Fibonacci sequence are:\")\n",
    "for term in fib:\n",
    "    print(term)\n"
   ]
  },
  {
   "cell_type": "markdown",
   "id": "difficult-oasis",
   "metadata": {},
   "source": [
    "# Exercise Six"
   ]
  },
  {
   "cell_type": "code",
   "execution_count": 29,
   "id": "pediatric-senegal",
   "metadata": {},
   "outputs": [
    {
     "name": "stdout",
     "output_type": "stream",
     "text": [
      "Enter the initial value x0: 1\n",
      "Enter the initial value x1: 2\n",
      "The first 30 terms of the sequence are:\n",
      "1\n",
      "2\n",
      "4.0\n",
      "8.0\n",
      "16.0\n",
      "32.0\n",
      "64.0\n",
      "128.0\n",
      "256.0\n",
      "512.0\n",
      "1024.0\n",
      "2048.0\n",
      "4096.0\n",
      "8192.0\n",
      "16384.0\n",
      "32768.0\n",
      "65536.0\n",
      "131072.0\n",
      "262144.0\n",
      "524288.0\n",
      "1048576.0\n",
      "2097152.0\n",
      "4194304.0\n",
      "8388608.0\n",
      "16777216.0\n",
      "33554432.0\n",
      "67108864.0\n",
      "134217728.0\n",
      "268435456.0\n",
      "536870912.0\n"
     ]
    }
   ],
   "source": [
    "x0 = int(input(\"Enter the initial value x0: \"))\n",
    "x1 = int(input(\"Enter the initial value x1: \"))\n",
    "\n",
    "seq = [x0, x1]\n",
    "\n",
    "for i in range(2, 30):\n",
    "    next_term = (seq[i-1] + 6 * seq[i-2]) / 2  \n",
    "    seq.append(next_term)\n",
    "\n",
    "print(\"The first 30 terms of the sequence are:\")\n",
    "for term in seq:\n",
    "    print(term)\n"
   ]
  },
  {
   "cell_type": "markdown",
   "id": "champion-applicant",
   "metadata": {},
   "source": [
    "# Exercise 7"
   ]
  },
  {
   "cell_type": "code",
   "execution_count": 1,
   "id": "royal-function",
   "metadata": {},
   "outputs": [
    {
     "name": "stdout",
     "output_type": "stream",
     "text": [
      "Enter a year: 2000\n",
      "2000 is a leap year.\n"
     ]
    }
   ],
   "source": [
    "year = int(input(\"Enter a year: \"))\n",
    "\n",
    "\n",
    "if (year % 4 == 0 and year % 100 != 0) or (year % 400 == 0):\n",
    "    print(f\"{year} is a leap year.\")\n",
    "else:\n",
    "    print(f\"{year} is not a leap year.\")\n"
   ]
  },
  {
   "cell_type": "code",
   "execution_count": 2,
   "id": "equipped-pickup",
   "metadata": {},
   "outputs": [
    {
     "name": "stdout",
     "output_type": "stream",
     "text": [
      "Enter a year: 2014\n",
      "2014 is not a leap year.\n"
     ]
    }
   ],
   "source": [
    "\n",
    "year = int(input(\"Enter a year: \"))\n",
    "\n",
    "is_leap = year % 4 == 0 and (year % 100 != 0 or year % 400 == 0)\n",
    "\n",
    "print(f\"{year} is a leap year.\" if is_leap else f\"{year} is not a leap year.\")\n"
   ]
  },
  {
   "cell_type": "markdown",
   "id": "endangered-universe",
   "metadata": {},
   "source": [
    "# Exercise eight"
   ]
  },
  {
   "cell_type": "code",
   "execution_count": 3,
   "id": "double-thanks",
   "metadata": {},
   "outputs": [
    {
     "name": "stdout",
     "output_type": "stream",
     "text": [
      "Enter a number n: 10\n",
      "Sum of squares of the first 10 natural numbers is: 385\n"
     ]
    }
   ],
   "source": [
    "n = int(input(\"Enter a number n: \"))\n",
    "sum_squares = 0\n",
    "\n",
    "for i in range(1, n+1):\n",
    "    sum_squares += i ** 2\n",
    "\n",
    "print(f\"Sum of squares of the first {n} natural numbers is: {sum_squares}\")\n"
   ]
  },
  {
   "cell_type": "code",
   "execution_count": 4,
   "id": "faced-chain",
   "metadata": {},
   "outputs": [
    {
     "name": "stdout",
     "output_type": "stream",
     "text": [
      "Enter a number n: 10\n",
      "Sum of squares of the first 10 natural numbers is: 385\n"
     ]
    }
   ],
   "source": [
    "n = int(input(\"Enter a number n: \"))\n",
    "sum_squares = 0\n",
    "i = 1\n",
    "\n",
    "while i <= n:\n",
    "    sum_squares += i ** 2\n",
    "    i += 1\n",
    "\n",
    "print(f\"Sum of squares of the first {n} natural numbers is: {sum_squares}\")\n"
   ]
  },
  {
   "cell_type": "code",
   "execution_count": 5,
   "id": "american-mozambique",
   "metadata": {},
   "outputs": [
    {
     "name": "stdout",
     "output_type": "stream",
     "text": [
      "Enter a value M: 250\n",
      "The smallest n such that the sum of squares is at least 250 is: 9\n"
     ]
    }
   ],
   "source": [
    "M = int(input(\"Enter a value M: \"))\n",
    "sum_squares = 0\n",
    "\n",
    "for n in range(1, M+1):\n",
    "    sum_squares += n ** 2\n",
    "    if sum_squares >= M:\n",
    "        print(f\"The smallest n such that the sum of squares is at least {M} is: {n}\")\n",
    "        break\n"
   ]
  },
  {
   "cell_type": "code",
   "execution_count": 6,
   "id": "prepared-ranch",
   "metadata": {},
   "outputs": [
    {
     "name": "stdout",
     "output_type": "stream",
     "text": [
      "Enter a value M: 250\n",
      "The smallest n such that the sum of squares is at least 250 is: 9\n"
     ]
    }
   ],
   "source": [
    "M = int(input(\"Enter a value M: \"))\n",
    "sum_squares = 0\n",
    "n = 1\n",
    "\n",
    "while sum_squares < M:\n",
    "    sum_squares += n ** 2\n",
    "    n += 1\n",
    "\n",
    "print(f\"The smallest n such that the sum of squares is at least {M} is: {n-1}\")\n"
   ]
  },
  {
   "cell_type": "markdown",
   "id": "modified-appraisal",
   "metadata": {},
   "source": [
    "# Exercises Nine"
   ]
  },
  {
   "cell_type": "code",
   "execution_count": 7,
   "id": "upper-eligibility",
   "metadata": {},
   "outputs": [
    {
     "name": "stdout",
     "output_type": "stream",
     "text": [
      "Enter a natural number: 45\n",
      "The divisors of 45 are:\n",
      "1\n",
      "3\n",
      "5\n",
      "9\n",
      "15\n",
      "45\n"
     ]
    }
   ],
   "source": [
    "num = int(input(\"Enter a natural number: \"))\n",
    "\n",
    "print(f\"The divisors of {num} are:\")\n",
    "for i in range(1, num+1):\n",
    "    if num % i == 0:\n",
    "        print(i)\n"
   ]
  },
  {
   "cell_type": "code",
   "execution_count": 8,
   "id": "destroyed-creature",
   "metadata": {},
   "outputs": [
    {
     "name": "stdout",
     "output_type": "stream",
     "text": [
      "Enter a natural number: 250\n",
      "The prime factors of 250 are:\n",
      "2\n",
      "5\n",
      "5\n",
      "5\n"
     ]
    }
   ],
   "source": [
    "num = int(input(\"Enter a natural number: \"))\n",
    "\n",
    "print(f\"The prime factors of {num} are:\")\n",
    "i = 2\n",
    "while num > 1:\n",
    "    if num % i == 0:\n",
    "        print(i)\n",
    "        num //= i\n",
    "    else:\n",
    "        i += 1\n"
   ]
  },
  {
   "cell_type": "markdown",
   "id": "progressive-andrews",
   "metadata": {},
   "source": [
    "# Exercises Ten"
   ]
  },
  {
   "cell_type": "code",
   "execution_count": 10,
   "id": "pursuant-captain",
   "metadata": {},
   "outputs": [
    {
     "name": "stdout",
     "output_type": "stream",
     "text": [
      "Enter a number between 0 and 9: 4\n",
      "Enter the maximum number N: 65\n",
      "Multiplication table of 4 up to 65:\n",
      "4 x 1 = 4\n",
      "4 x 2 = 8\n",
      "4 x 3 = 12\n",
      "4 x 4 = 16\n",
      "4 x 5 = 20\n",
      "4 x 6 = 24\n",
      "4 x 7 = 28\n",
      "4 x 8 = 32\n",
      "4 x 9 = 36\n",
      "4 x 10 = 40\n",
      "4 x 11 = 44\n",
      "4 x 12 = 48\n",
      "4 x 13 = 52\n",
      "4 x 14 = 56\n",
      "4 x 15 = 60\n",
      "4 x 16 = 64\n",
      "4 x 17 = 68\n",
      "4 x 18 = 72\n",
      "4 x 19 = 76\n",
      "4 x 20 = 80\n",
      "4 x 21 = 84\n",
      "4 x 22 = 88\n",
      "4 x 23 = 92\n",
      "4 x 24 = 96\n",
      "4 x 25 = 100\n",
      "4 x 26 = 104\n",
      "4 x 27 = 108\n",
      "4 x 28 = 112\n",
      "4 x 29 = 116\n",
      "4 x 30 = 120\n",
      "4 x 31 = 124\n",
      "4 x 32 = 128\n",
      "4 x 33 = 132\n",
      "4 x 34 = 136\n",
      "4 x 35 = 140\n",
      "4 x 36 = 144\n",
      "4 x 37 = 148\n",
      "4 x 38 = 152\n",
      "4 x 39 = 156\n",
      "4 x 40 = 160\n",
      "4 x 41 = 164\n",
      "4 x 42 = 168\n",
      "4 x 43 = 172\n",
      "4 x 44 = 176\n",
      "4 x 45 = 180\n",
      "4 x 46 = 184\n",
      "4 x 47 = 188\n",
      "4 x 48 = 192\n",
      "4 x 49 = 196\n",
      "4 x 50 = 200\n",
      "4 x 51 = 204\n",
      "4 x 52 = 208\n",
      "4 x 53 = 212\n",
      "4 x 54 = 216\n",
      "4 x 55 = 220\n",
      "4 x 56 = 224\n",
      "4 x 57 = 228\n",
      "4 x 58 = 232\n",
      "4 x 59 = 236\n",
      "4 x 60 = 240\n",
      "4 x 61 = 244\n",
      "4 x 62 = 248\n",
      "4 x 63 = 252\n",
      "4 x 64 = 256\n",
      "4 x 65 = 260\n"
     ]
    }
   ],
   "source": [
    "n = int(input(\"Enter a number between 0 and 9: \"))\n",
    "N = int(input(\"Enter the maximum number N: \"))\n",
    "\n",
    "print(f\"Multiplication table of {n} up to {N}:\")\n",
    "for i in range(1, N+1):\n",
    "    print(f\"{n} x {i} = {n * i}\")\n"
   ]
  },
  {
   "cell_type": "markdown",
   "id": "soviet-coverage",
   "metadata": {},
   "source": [
    "# Exercise 11"
   ]
  },
  {
   "cell_type": "code",
   "execution_count": 11,
   "id": "underlying-engine",
   "metadata": {},
   "outputs": [
    {
     "name": "stdout",
     "output_type": "stream",
     "text": [
      "Numbers between 0 and 40 that are multiples of 3, 7, or 11:\n",
      "0\n",
      "3\n",
      "6\n",
      "7\n",
      "9\n",
      "11\n",
      "12\n",
      "14\n",
      "15\n",
      "18\n",
      "21\n",
      "22\n",
      "24\n",
      "27\n",
      "28\n",
      "30\n",
      "33\n",
      "35\n",
      "36\n",
      "39\n"
     ]
    }
   ],
   "source": [
    "print(\"Numbers between 0 and 40 that are multiples of 3, 7, or 11:\")\n",
    "for i in range(41):\n",
    "    if i % 3 == 0 or i % 7 == 0 or i % 11 == 0:\n",
    "        print(i)\n"
   ]
  },
  {
   "cell_type": "markdown",
   "id": "former-kruger",
   "metadata": {},
   "source": [
    "# Exercise 12"
   ]
  },
  {
   "cell_type": "code",
   "execution_count": 12,
   "id": "twenty-shape",
   "metadata": {},
   "outputs": [
    {
     "name": "stdout",
     "output_type": "stream",
     "text": [
      "Enter a float number: 12.5\n",
      "The floor of 12.5 is: 12\n"
     ]
    }
   ],
   "source": [
    "x = float(input(\"Enter a float number: \"))\n",
    "\n",
    "\n",
    "floor_x = int(x) if x >= 0 else int(x) - 1\n",
    "print(f\"The floor of {x} is: {floor_x}\")\n"
   ]
  },
  {
   "cell_type": "markdown",
   "id": "controversial-location",
   "metadata": {},
   "source": [
    "# Exercise 13"
   ]
  },
  {
   "cell_type": "code",
   "execution_count": 13,
   "id": "abstract-bolivia",
   "metadata": {},
   "outputs": [
    {
     "name": "stdout",
     "output_type": "stream",
     "text": [
      "Enter the x-coordinate (or type 'q' to quit): 5\n",
      "Enter the y-coordinate (or type 'q' to quit): -4\n",
      "The point is in the 4th quadrant.\n",
      "Do you want to enter another point? (y/n): 2\n"
     ]
    }
   ],
   "source": [
    "while True:\n",
    "    x = float(input(\"Enter the x-coordinate (or type 'q' to quit): \"))\n",
    "    y = float(input(\"Enter the y-coordinate (or type 'q' to quit): \"))\n",
    "    \n",
    "    if x == 0 and y == 0:\n",
    "        print(\"The point is at the origin.\")\n",
    "    elif x == 0:\n",
    "        print(\"The point lies on the y-axis.\")\n",
    "    elif y == 0:\n",
    "        print(\"The point lies on the x-axis.\")\n",
    "    elif x > 0 and y > 0:\n",
    "        print(\"The point is in the 1st quadrant.\")\n",
    "    elif x < 0 and y > 0:\n",
    "        print(\"The point is in the 2nd quadrant.\")\n",
    "    elif x < 0 and y < 0:\n",
    "        print(\"The point is in the 3rd quadrant.\")\n",
    "    else:\n",
    "        print(\"The point is in the 4th quadrant.\")\n",
    "    \n",
    "    if input(\"Do you want to enter another point? (y/n): \").lower() != 'y':\n",
    "        break\n"
   ]
  },
  {
   "cell_type": "markdown",
   "id": "interested-edinburgh",
   "metadata": {},
   "source": [
    "# Exercise 14"
   ]
  },
  {
   "cell_type": "code",
   "execution_count": null,
   "id": "gentle-belle",
   "metadata": {},
   "outputs": [],
   "source": []
  }
 ],
 "metadata": {
  "kernelspec": {
   "display_name": "Python 3",
   "language": "python",
   "name": "python3"
  },
  "language_info": {
   "codemirror_mode": {
    "name": "ipython",
    "version": 3
   },
   "file_extension": ".py",
   "mimetype": "text/x-python",
   "name": "python",
   "nbconvert_exporter": "python",
   "pygments_lexer": "ipython3",
   "version": "3.9.2"
  }
 },
 "nbformat": 4,
 "nbformat_minor": 5
}
