{
 "cells": [
  {
   "cell_type": "markdown",
   "metadata": {
    "id": "sm-kMbirqqyt"
   },
   "source": [
    "# PyPro: challenge 1 \n",
    "\n",
    "### This challenge is due on Sunday 29th September 2024 at 8pm.\n",
    "\n",
    "`These exercises provide a wide range of challenges that test your understanding of Python's core concepts, such as control structures, data types, string manipulations, list comprehensions, and higher-order functions.`\n",
    "\n",
    "\n",
    "#### Basic Tasks\n",
    "\n",
    "1. Create a function `find_max()` that accepts two numeric inputs and returns the greater value. Avoid using the built-in `max()` function."
   ]
  },
  {
   "cell_type": "code",
   "execution_count": 10,
   "metadata": {},
   "outputs": [
    {
     "name": "stdout",
     "output_type": "stream",
     "text": [
      "45 is greater than 18 \n"
     ]
    }
   ],
   "source": [
    "def find_max(a, b):\n",
    "    if a > b :\n",
    "        print(f\"{a} is greater than {b} \")\n",
    "    else:\n",
    "         print(f\"{a} is less than {b} \") \n",
    "find_max(45, 18)"
   ]
  },
  {
   "cell_type": "code",
   "execution_count": 6,
   "metadata": {},
   "outputs": [
    {
     "name": "stdout",
     "output_type": "stream",
     "text": [
      "Enter the value of a : 43\n",
      "Enter the value of b : 3\n",
      "43 is greater than 3 \n"
     ]
    }
   ],
   "source": [
    "a =int(input(\"Enter the value of a : \")) \n",
    "b =int(input(\"Enter the value of b : \"))\n",
    "\n",
    "if a > b :\n",
    "    print(f\"{a} is greater than {b} \")\n",
    "else:\n",
    "     print(f\"{a} is less than {b} \")   "
   ]
  },
  {
   "cell_type": "code",
   "execution_count": 5,
   "metadata": {},
   "outputs": [
    {
     "name": "stdout",
     "output_type": "stream",
     "text": [
      " the product of element is 1680\n"
     ]
    }
   ],
   "source": [
    "number=[10, 12, 14]\n",
    "pro= 1\n",
    "for i in range(0,len(number)):\n",
    "    pro= pro * number[i]\n",
    "print(f\" the product of element is {pro}\")"
   ]
  },
  {
   "cell_type": "markdown",
   "metadata": {
    "id": "sm-kMbirqqyt"
   },
   "source": [
    "2. Develop a function `find_max_of_three()` to find the maximum among three given numbers."
   ]
  },
  {
   "cell_type": "code",
   "execution_count": 12,
   "metadata": {},
   "outputs": [
    {
     "name": "stdout",
     "output_type": "stream",
     "text": [
      "80 is greater than both 45 and 18 \n"
     ]
    }
   ],
   "source": [
    "def find_max(a, b, c):\n",
    "    if a > b and a > c :\n",
    "        print(f\"{a} is greater than {b} and {c} \")\n",
    "    elif b > a and b > c :\n",
    "         print(f\"{b} is greater than both {a} and {c} \") \n",
    "    else:print(f\"{c} is greater than both {a} and {b} \")\n",
    "find_max(45, 18, 80)"
   ]
  },
  {
   "cell_type": "markdown",
   "metadata": {
    "id": "sm-kMbirqqyt"
   },
   "source": [
    "3. Write a function to manually calculate the length of a given list or string without using `len()`."
   ]
  },
  {
   "cell_type": "code",
   "execution_count": 19,
   "metadata": {},
   "outputs": [
    {
     "data": {
      "text/plain": [
       "8"
      ]
     },
     "execution_count": 19,
     "metadata": {},
     "output_type": "execute_result"
    }
   ],
   "source": [
    "def calculate_the_length_of_given_list(lst):\n",
    "    count = 0\n",
    "    for i in lst:\n",
    "        count += 1\n",
    "    return count\n",
    "calculate_the_length_of_given_list([1, 1, 3, 5, 5, 8, 10, 12])"
   ]
  },
  {
   "cell_type": "markdown",
   "metadata": {
    "id": "sm-kMbirqqyt"
   },
   "source": [
    "4. Implement a function that checks if a given character is a vowel (a, e, i, o, u)."
   ]
  },
  {
   "cell_type": "code",
   "execution_count": 4,
   "metadata": {},
   "outputs": [
    {
     "data": {
      "text/plain": [
       "True"
      ]
     },
     "execution_count": 4,
     "metadata": {},
     "output_type": "execute_result"
    }
   ],
   "source": [
    "def is_vowel(char):\n",
    "    vowels = \"aeiouAEIOU\"\n",
    "    return char in vowels\n",
    "is_vowel(\"e\")"
   ]
  },
  {
   "cell_type": "markdown",
   "metadata": {
    "id": "sm-kMbirqqyt"
   },
   "source": [
    "5. Write a function `encode()` that converts a string into \"rövarspråket\" ([robber's language](https://en.wikipedia.org/wiki/R%C3%B6varspr%C3%A5ket)) by doubling consonants and placing \"o\" in between, e.g., \"hello\" -> \"hohelollolo\"."
   ]
  },
  {
   "cell_type": "code",
   "execution_count": 5,
   "metadata": {},
   "outputs": [
    {
     "data": {
      "text/plain": [
       "'wowororloldod'"
      ]
     },
     "execution_count": 5,
     "metadata": {},
     "output_type": "execute_result"
    }
   ],
   "source": [
    "def encode(s):\n",
    "    vowels = \"aeiouAEIOU\"\n",
    "    result = \"\"\n",
    "    \n",
    "    for char in s:\n",
    "        if char.lower() not in vowels and char.isalpha():\n",
    "            result += char + 'o' + char\n",
    "        else:\n",
    "            result += char  \n",
    "    return result\n",
    "\n",
    "encode(\"world\")"
   ]
  },
  {
   "cell_type": "markdown",
   "metadata": {
    "id": "sm-kMbirqqyt"
   },
   "source": [
    "6. Create `sum_elements()` and `product_elements()` functions to sum and multiply all elements in a list, respectively."
   ]
  },
  {
   "cell_type": "code",
   "execution_count": 6,
   "metadata": {},
   "outputs": [
    {
     "data": {
      "text/plain": [
       "9"
      ]
     },
     "execution_count": 6,
     "metadata": {},
     "output_type": "execute_result"
    }
   ],
   "source": [
    "# Function to sum all elements in a list\n",
    "def sum_elements(lst):\n",
    "    return sum(lst)\n",
    "sum_elements([2, 3, 4])\n",
    "\n"
   ]
  },
  {
   "cell_type": "code",
   "execution_count": 7,
   "metadata": {},
   "outputs": [
    {
     "data": {
      "text/plain": [
       "24"
      ]
     },
     "execution_count": 7,
     "metadata": {},
     "output_type": "execute_result"
    }
   ],
   "source": [
    "# Function to multiply all elements in a list\n",
    "def product_elements(lst):\n",
    "    product = 1\n",
    "    for element in lst:\n",
    "        product *= element\n",
    "    return product\n",
    "product_elements([2, 3, 4])"
   ]
  },
  {
   "cell_type": "markdown",
   "metadata": {
    "id": "sm-kMbirqqyt"
   },
   "source": [
    "7. Define a function `reverse_string()` to reverse the characters in a given string."
   ]
  },
  {
   "cell_type": "code",
   "execution_count": 8,
   "metadata": {},
   "outputs": [
    {
     "data": {
      "text/plain": [
       "'evol ym olleH'"
      ]
     },
     "execution_count": 8,
     "metadata": {},
     "output_type": "execute_result"
    }
   ],
   "source": [
    "# Function to reverse the characters in a string\n",
    "def reverse_string(s):\n",
    "    return s[::-1]\n",
    "reverse_string(\"Hello my love\")\n",
    "\n"
   ]
  },
  {
   "cell_type": "markdown",
   "metadata": {
    "id": "sm-kMbirqqyt"
   },
   "source": [
    "8. Implement `check_palindrome()` to verify if a string reads the same forwards and backwards, i.e. is a [palindrome](https://en.wikipedia.org/wiki/Palindrome)."
   ]
  },
  {
   "cell_type": "code",
   "execution_count": null,
   "metadata": {},
   "outputs": [],
   "source": []
  },
  {
   "cell_type": "markdown",
   "metadata": {
    "id": "sm-kMbirqqyt"
   },
   "source": [
    "9. Develop a function `check_membership()` to determine if a value exists within a list."
   ]
  },
  {
   "cell_type": "code",
   "execution_count": 11,
   "metadata": {},
   "outputs": [
    {
     "data": {
      "text/plain": [
       "True"
      ]
     },
     "execution_count": 11,
     "metadata": {},
     "output_type": "execute_result"
    }
   ],
   "source": [
    "# Function to check if a value exists in a list\n",
    "\n",
    "def check_membership(lst, value):\n",
    "    return value in lst\n",
    "\n",
    "check_membership([1, 2, 3, 4, 5], 3)\n"
   ]
  },
  {
   "cell_type": "markdown",
   "metadata": {
    "id": "sm-kMbirqqyt"
   },
   "source": [
    "10. Write `check_overlap()` to identify if two lists share any elements."
   ]
  },
  {
   "cell_type": "code",
   "execution_count": 12,
   "metadata": {},
   "outputs": [
    {
     "data": {
      "text/plain": [
       "True"
      ]
     },
     "execution_count": 12,
     "metadata": {},
     "output_type": "execute_result"
    }
   ],
   "source": [
    "# Function to check if two lists share any common elements\n",
    "\n",
    "def check_overlap(list1, list2):\n",
    "    return any(element in list1 for element in list2)\n",
    "check_overlap([1, 2, 3, 4], [3, 5, 6])\n"
   ]
  },
  {
   "cell_type": "markdown",
   "metadata": {
    "id": "sm-kMbirqqyt"
   },
   "source": [
    "11. Implement `repeat_char()` that generates a string with a specified character repeated `n` times."
   ]
  },
  {
   "cell_type": "code",
   "execution_count": 13,
   "metadata": {},
   "outputs": [
    {
     "data": {
      "text/plain": [
       "'TETEMATETEMATETEMA'"
      ]
     },
     "execution_count": 13,
     "metadata": {},
     "output_type": "execute_result"
    }
   ],
   "source": [
    "# Function to repeat a character n times\n",
    "\n",
    "def repeat_char(char, n):\n",
    "    return char * n\n",
    "repeat_char(\"TETEMA\", 3)"
   ]
  },
  {
   "cell_type": "markdown",
   "metadata": {
    "id": "sm-kMbirqqyt"
   },
   "source": [
    "12. Create a function `print_histogram()` that takes a list of integers and prints a corresponding histogram."
   ]
  },
  {
   "cell_type": "code",
   "execution_count": 15,
   "metadata": {},
   "outputs": [
    {
     "name": "stdout",
     "output_type": "stream",
     "text": [
      ".\n",
      "...\n",
      ".....\n",
      "..\n"
     ]
    }
   ],
   "source": [
    "# Function to print a histogram for a list of integers\n",
    "\n",
    "def print_histogram(values):\n",
    "    for value in values:\n",
    "        print('.' * value)\n",
    "print_histogram([1, 3, 5, 2])\n"
   ]
  },
  {
   "cell_type": "markdown",
   "metadata": {
    "id": "sm-kMbirqqyt"
   },
   "source": [
    "13. Write `find_max_in_list()` to identify the largest number in a list of arbitrary length."
   ]
  },
  {
   "cell_type": "code",
   "execution_count": 16,
   "metadata": {},
   "outputs": [
    {
     "name": "stdout",
     "output_type": "stream",
     "text": [
      "The maximum value in the list is: 9\n"
     ]
    }
   ],
   "source": [
    "# Function to find the maximum value in a list\n",
    "\n",
    "def find_max_in_list(lst):\n",
    "    if not lst: \n",
    "        return None\n",
    "    max_value = lst[0]  \n",
    "    for num in lst:\n",
    "        if num > max_value:\n",
    "            max_value = num\n",
    "    return max_value\n",
    "\n",
    "liste = [3, 1, 4, 1, 5, 9, 2, 6, 5, 3, 5]\n",
    "\n",
    "max_value = find_max_in_list(liste)\n",
    "print(\"The maximum value in the list is:\", max_value)\n"
   ]
  },
  {
   "cell_type": "markdown",
   "metadata": {
    "id": "sm-kMbirqqyt"
   },
   "source": [
    "14. Create a program that maps each word in a list to its length."
   ]
  },
  {
   "cell_type": "code",
   "execution_count": 17,
   "metadata": {},
   "outputs": [
    {
     "name": "stdout",
     "output_type": "stream",
     "text": [
      "Word to length mapping: {'apple': 5, 'banana': 6, 'cherry': 6, 'date': 4}\n"
     ]
    }
   ],
   "source": [
    "# Function to map each word in a list to its length\n",
    "\n",
    "def map_words_to_length(words):\n",
    "    return {word: len(word) for word in words}\n",
    "\n",
    "words = [\"apple\", \"banana\", \"cherry\", \"date\"]\n",
    "word_length_map = map_words_to_length(words)\n",
    "\n",
    "print(\"Word to length mapping:\", word_length_map)\n"
   ]
  },
  {
   "cell_type": "markdown",
   "metadata": {
    "id": "sm-kMbirqqyt"
   },
   "source": [
    "15. Implement `longest_word()` to find the longest word in a list."
   ]
  },
  {
   "cell_type": "code",
   "execution_count": 19,
   "metadata": {},
   "outputs": [
    {
     "name": "stdout",
     "output_type": "stream",
     "text": [
      "The longest word is: bananas\n"
     ]
    }
   ],
   "source": [
    "# Function to find the longest word in a list\n",
    "\n",
    "def longest_word(words):\n",
    "    if not words:  \n",
    "        return None\n",
    "    longest = words[0]  \n",
    "    for word in words:\n",
    "        if len(word) > len(longest):\n",
    "            longest = word\n",
    "    return longest\n",
    "\n",
    "\n",
    "words = [\"apple\", \"bananas\", \"cherry\", \"date\", \"fig\"]\n",
    "longest = longest_word(words)\n",
    "\n",
    "print(\"The longest word is:\", longest)\n"
   ]
  },
  {
   "cell_type": "markdown",
   "metadata": {
    "id": "sm-kMbirqqyt"
   },
   "source": [
    "16. Develop `filter_words()` to return words longer than a specified length from a list."
   ]
  },
  {
   "cell_type": "code",
   "execution_count": 20,
   "metadata": {},
   "outputs": [
    {
     "name": "stdout",
     "output_type": "stream",
     "text": [
      "Words longer than 4 characters: ['apple', 'banana', 'cherry']\n"
     ]
    }
   ],
   "source": [
    "# Function to filter words longer than a specified length\n",
    "\n",
    "def filter_words(words, length):\n",
    "    return [word for word in words if len(word) > length]\n",
    "\n",
    "words = [\"apple\", \"banana\", \"cherry\", \"date\", \"fig\"]\n",
    "filtered_words = filter_words(words, 4)\n",
    "\n",
    "print(\"Words longer than 4 characters:\", filtered_words)\n"
   ]
  },
  {
   "cell_type": "markdown",
   "metadata": {
    "id": "sm-kMbirqqyt"
   },
   "source": [
    "17. Enhance the palindrome recognizer to handle phrases, ignoring spaces, punctuation, and case."
   ]
  },
  {
   "cell_type": "markdown",
   "metadata": {
    "id": "sm-kMbirqqyt"
   },
   "source": [
    "18. Implement a function that checks if a given sentence is a [pangram](https://en.wikipedia.org/wiki/Pangram).\n",
    "\n",
    "19. Write a function that generates verses for the \"99 Bottles of Beer\" song.\n",
    "\n",
    "20. Create a translation function using a small dictionary to translate English words into French/.\n",
    "\n",
    "21. Develop `char_frequency()` to build a dictionary of character frequencies in a string.\n",
    "\n",
    "22. Implement a [Caesar cipher encoder/decoder using a shift of 13 (ROT-13)](https://en.wikipedia.org/wiki/ROT13).\n",
    "\n",
    "23. Create `fix_spaces()` to correct multiple spaces and missing spaces after periods in a text.\n",
    "\n",
    "24. Write `convert_to_third_person()` to transform verbs into their third person singular form.\n",
    "\n",
    "25. Implement `make_ing_form()` to convert verbs into their present participle form using heuristic rules.\n",
    "\n",
    "\n",
    "\n",
    "\n",
    "\n",
    "#### Higher-Order Functions and List Comprehensions\n",
    "\n",
    "26. Use `reduce()` to write `max_in_list()` that returns the largest number in a list.\n",
    "\n",
    "27. Write a program that maps words to their lengths using a for-loop, `map()`, and list comprehensions.\n",
    "\n",
    "28. Implement `find_longest_word()` using only higher-order functions.\n",
    "\n",
    "29. Use `filter()` to write `filter_long_words()` that filters words longer than `n`.\n",
    "\n",
    "30. Create `translate_with_map()` to translate English words to French using `map()`.\n",
    "\n",
    "31. Re-implement the higher-order functions `map()`, `filter()`, and `reduce()` from scratch.\n",
    "\n",
    "\n",
    "\n",
    "\n",
    "\n",
    "#### Simple Tasks with I/O\n",
    "\n",
    "32. Write a palindrome recognizer that reads lines from a file and prints only the palindromes.\n",
    "\n",
    "33. Implement a [semordnilap](https://en.wiktionary.org/wiki/semordnilap) recognizer that finds word pairs from a file where each word is the reverse of the other.\n",
    "\n",
    "34. Create `char_frequency_table()` to display a sorted character frequency table from a file.\n",
    "\n",
    "35. Write a function `speak_ICAO()` that translates text into the [ICAO phonetic alphabet](https://en.wikipedia.org/wiki/NATO_phonetic_alphabet).\n",
    "\n",
    "36. Implement `find_hapaxes()` to identify words that occur only once in a text file.\n",
    "\n",
    "37. Write a program that numbers each line in a text file.\n",
    "\n",
    "38. Calculate the average word length in a text file.\n",
    "\n",
    "39. Implement a number-guessing game where the user guesses a number between 1 and 20.\n",
    "\n",
    "40. Write a program that presents an [anagram](https://en.wikipedia.org/wiki/Anagram) of a randomly chosen word and allows the user to guess the original.\n",
    "\n",
    "41. Create a [Lingo game](https://en.wikipedia.org/wiki/Lingo_(American_game_show)) where players guess a hidden word, receiving clues about correct and misplaced characters.\n",
    "\n",
    "\n",
    "\n",
    "#### Advanced Tasks\n",
    "\n",
    "42. Develop a sentence splitter that separates a text into sentences based on various heuristics.\n",
    "\n",
    "43. Write a program to find the largest group of anagrams in a given word list.\n",
    "\n",
    "44. Generate a string of balanced brackets and verify if it is balanced.\n",
    "\n",
    "45. Create a word chain game where each word starts with the last letter of the previous one, using a list of [Pokemon names](https://en.wikipedia.org/wiki/List_of_Pok%C3%A9mon)."
   ]
  }
 ],
 "metadata": {
  "colab": {
   "provenance": []
  },
  "kernelspec": {
   "display_name": "Python 3",
   "language": "python",
   "name": "python3"
  },
  "language_info": {
   "codemirror_mode": {
    "name": "ipython",
    "version": 3
   },
   "file_extension": ".py",
   "mimetype": "text/x-python",
   "name": "python",
   "nbconvert_exporter": "python",
   "pygments_lexer": "ipython3",
   "version": "3.9.2"
  }
 },
 "nbformat": 4,
 "nbformat_minor": 1
}
